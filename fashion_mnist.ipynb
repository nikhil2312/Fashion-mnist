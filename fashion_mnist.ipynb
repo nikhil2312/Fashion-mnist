{
  "nbformat": 4,
  "nbformat_minor": 0,
  "metadata": {
    "colab": {
      "name": "fashion-mnist.ipynb",
      "provenance": [],
      "collapsed_sections": [],
      "authorship_tag": "ABX9TyPrlfiMCOv5dU6laA1EnYus",
      "include_colab_link": true
    },
    "kernelspec": {
      "name": "python3",
      "display_name": "Python 3"
    },
    "language_info": {
      "name": "python"
    },
    "accelerator": "GPU"
  },
  "cells": [
    {
      "cell_type": "markdown",
      "metadata": {
        "id": "view-in-github",
        "colab_type": "text"
      },
      "source": [
        "<a href=\"https://colab.research.google.com/github/nikhil2312/Fashion-mnist/blob/main/fashion_mnist.ipynb\" target=\"_parent\"><img src=\"https://colab.research.google.com/assets/colab-badge.svg\" alt=\"Open In Colab\"/></a>"
      ]
    },
    {
      "cell_type": "code",
      "metadata": {
        "id": "SPxxjzOWj43w"
      },
      "source": [
        "from keras.datasets import fashion_mnist\n",
        "import matplotlib.pyplot as plt\n",
        "%matplotlib inline\n",
        "from sklearn.model_selection import train_test_split\n",
        "from keras.utils import np_utils"
      ],
      "execution_count": 28,
      "outputs": []
    },
    {
      "cell_type": "code",
      "metadata": {
        "id": "YAjFHa5nj5vg"
      },
      "source": [
        "(X_train, y_train), (X_test, y_test) = fashion_mnist.load_data() # loading the fashion mnist dataset"
      ],
      "execution_count": 4,
      "outputs": []
    },
    {
      "cell_type": "code",
      "metadata": {
        "colab": {
          "base_uri": "https://localhost:8080/"
        },
        "id": "JDlguyEwj7xe",
        "outputId": "7fff81ac-e3d3-45b7-a210-b1b9ec1f8edb"
      },
      "source": [
        "print(X_train.shape, y_train.shape)\n",
        "print(X_test.shape, y_test.shape)"
      ],
      "execution_count": 5,
      "outputs": [
        {
          "output_type": "stream",
          "text": [
            "(60000, 28, 28) (60000,)\n",
            "(10000, 28, 28) (10000,)\n"
          ],
          "name": "stdout"
        }
      ]
    },
    {
      "cell_type": "code",
      "metadata": {
        "colab": {
          "base_uri": "https://localhost:8080/"
        },
        "id": "N_QRSk5akGOd",
        "outputId": "f998a3ef-e950-4014-9814-3595c1229164"
      },
      "source": [
        "X_train[0]"
      ],
      "execution_count": 6,
      "outputs": [
        {
          "output_type": "execute_result",
          "data": {
            "text/plain": [
              "array([[  0,   0,   0,   0,   0,   0,   0,   0,   0,   0,   0,   0,   0,\n",
              "          0,   0,   0,   0,   0,   0,   0,   0,   0,   0,   0,   0,   0,\n",
              "          0,   0],\n",
              "       [  0,   0,   0,   0,   0,   0,   0,   0,   0,   0,   0,   0,   0,\n",
              "          0,   0,   0,   0,   0,   0,   0,   0,   0,   0,   0,   0,   0,\n",
              "          0,   0],\n",
              "       [  0,   0,   0,   0,   0,   0,   0,   0,   0,   0,   0,   0,   0,\n",
              "          0,   0,   0,   0,   0,   0,   0,   0,   0,   0,   0,   0,   0,\n",
              "          0,   0],\n",
              "       [  0,   0,   0,   0,   0,   0,   0,   0,   0,   0,   0,   0,   1,\n",
              "          0,   0,  13,  73,   0,   0,   1,   4,   0,   0,   0,   0,   1,\n",
              "          1,   0],\n",
              "       [  0,   0,   0,   0,   0,   0,   0,   0,   0,   0,   0,   0,   3,\n",
              "          0,  36, 136, 127,  62,  54,   0,   0,   0,   1,   3,   4,   0,\n",
              "          0,   3],\n",
              "       [  0,   0,   0,   0,   0,   0,   0,   0,   0,   0,   0,   0,   6,\n",
              "          0, 102, 204, 176, 134, 144, 123,  23,   0,   0,   0,   0,  12,\n",
              "         10,   0],\n",
              "       [  0,   0,   0,   0,   0,   0,   0,   0,   0,   0,   0,   0,   0,\n",
              "          0, 155, 236, 207, 178, 107, 156, 161, 109,  64,  23,  77, 130,\n",
              "         72,  15],\n",
              "       [  0,   0,   0,   0,   0,   0,   0,   0,   0,   0,   0,   1,   0,\n",
              "         69, 207, 223, 218, 216, 216, 163, 127, 121, 122, 146, 141,  88,\n",
              "        172,  66],\n",
              "       [  0,   0,   0,   0,   0,   0,   0,   0,   0,   1,   1,   1,   0,\n",
              "        200, 232, 232, 233, 229, 223, 223, 215, 213, 164, 127, 123, 196,\n",
              "        229,   0],\n",
              "       [  0,   0,   0,   0,   0,   0,   0,   0,   0,   0,   0,   0,   0,\n",
              "        183, 225, 216, 223, 228, 235, 227, 224, 222, 224, 221, 223, 245,\n",
              "        173,   0],\n",
              "       [  0,   0,   0,   0,   0,   0,   0,   0,   0,   0,   0,   0,   0,\n",
              "        193, 228, 218, 213, 198, 180, 212, 210, 211, 213, 223, 220, 243,\n",
              "        202,   0],\n",
              "       [  0,   0,   0,   0,   0,   0,   0,   0,   0,   1,   3,   0,  12,\n",
              "        219, 220, 212, 218, 192, 169, 227, 208, 218, 224, 212, 226, 197,\n",
              "        209,  52],\n",
              "       [  0,   0,   0,   0,   0,   0,   0,   0,   0,   0,   6,   0,  99,\n",
              "        244, 222, 220, 218, 203, 198, 221, 215, 213, 222, 220, 245, 119,\n",
              "        167,  56],\n",
              "       [  0,   0,   0,   0,   0,   0,   0,   0,   0,   4,   0,   0,  55,\n",
              "        236, 228, 230, 228, 240, 232, 213, 218, 223, 234, 217, 217, 209,\n",
              "         92,   0],\n",
              "       [  0,   0,   1,   4,   6,   7,   2,   0,   0,   0,   0,   0, 237,\n",
              "        226, 217, 223, 222, 219, 222, 221, 216, 223, 229, 215, 218, 255,\n",
              "         77,   0],\n",
              "       [  0,   3,   0,   0,   0,   0,   0,   0,   0,  62, 145, 204, 228,\n",
              "        207, 213, 221, 218, 208, 211, 218, 224, 223, 219, 215, 224, 244,\n",
              "        159,   0],\n",
              "       [  0,   0,   0,   0,  18,  44,  82, 107, 189, 228, 220, 222, 217,\n",
              "        226, 200, 205, 211, 230, 224, 234, 176, 188, 250, 248, 233, 238,\n",
              "        215,   0],\n",
              "       [  0,  57, 187, 208, 224, 221, 224, 208, 204, 214, 208, 209, 200,\n",
              "        159, 245, 193, 206, 223, 255, 255, 221, 234, 221, 211, 220, 232,\n",
              "        246,   0],\n",
              "       [  3, 202, 228, 224, 221, 211, 211, 214, 205, 205, 205, 220, 240,\n",
              "         80, 150, 255, 229, 221, 188, 154, 191, 210, 204, 209, 222, 228,\n",
              "        225,   0],\n",
              "       [ 98, 233, 198, 210, 222, 229, 229, 234, 249, 220, 194, 215, 217,\n",
              "        241,  65,  73, 106, 117, 168, 219, 221, 215, 217, 223, 223, 224,\n",
              "        229,  29],\n",
              "       [ 75, 204, 212, 204, 193, 205, 211, 225, 216, 185, 197, 206, 198,\n",
              "        213, 240, 195, 227, 245, 239, 223, 218, 212, 209, 222, 220, 221,\n",
              "        230,  67],\n",
              "       [ 48, 203, 183, 194, 213, 197, 185, 190, 194, 192, 202, 214, 219,\n",
              "        221, 220, 236, 225, 216, 199, 206, 186, 181, 177, 172, 181, 205,\n",
              "        206, 115],\n",
              "       [  0, 122, 219, 193, 179, 171, 183, 196, 204, 210, 213, 207, 211,\n",
              "        210, 200, 196, 194, 191, 195, 191, 198, 192, 176, 156, 167, 177,\n",
              "        210,  92],\n",
              "       [  0,   0,  74, 189, 212, 191, 175, 172, 175, 181, 185, 188, 189,\n",
              "        188, 193, 198, 204, 209, 210, 210, 211, 188, 188, 194, 192, 216,\n",
              "        170,   0],\n",
              "       [  2,   0,   0,   0,  66, 200, 222, 237, 239, 242, 246, 243, 244,\n",
              "        221, 220, 193, 191, 179, 182, 182, 181, 176, 166, 168,  99,  58,\n",
              "          0,   0],\n",
              "       [  0,   0,   0,   0,   0,   0,   0,  40,  61,  44,  72,  41,  35,\n",
              "          0,   0,   0,   0,   0,   0,   0,   0,   0,   0,   0,   0,   0,\n",
              "          0,   0],\n",
              "       [  0,   0,   0,   0,   0,   0,   0,   0,   0,   0,   0,   0,   0,\n",
              "          0,   0,   0,   0,   0,   0,   0,   0,   0,   0,   0,   0,   0,\n",
              "          0,   0],\n",
              "       [  0,   0,   0,   0,   0,   0,   0,   0,   0,   0,   0,   0,   0,\n",
              "          0,   0,   0,   0,   0,   0,   0,   0,   0,   0,   0,   0,   0,\n",
              "          0,   0]], dtype=uint8)"
            ]
          },
          "metadata": {
            "tags": []
          },
          "execution_count": 6
        }
      ]
    },
    {
      "cell_type": "code",
      "metadata": {
        "colab": {
          "base_uri": "https://localhost:8080/"
        },
        "id": "KWqJUt_lkPHA",
        "outputId": "4749e944-6f90-4cf3-b12c-2b0d18009dee"
      },
      "source": [
        "y_train[0]"
      ],
      "execution_count": 7,
      "outputs": [
        {
          "output_type": "execute_result",
          "data": {
            "text/plain": [
              "9"
            ]
          },
          "metadata": {
            "tags": []
          },
          "execution_count": 7
        }
      ]
    },
    {
      "cell_type": "code",
      "metadata": {
        "colab": {
          "base_uri": "https://localhost:8080/",
          "height": 265
        },
        "id": "Xteg3HjAkQhQ",
        "outputId": "2774647b-b7b0-42a6-fb74-baf80efe5a6b"
      },
      "source": [
        "plt.imshow(X_train[0], cmap='gray')\n",
        "plt.show()"
      ],
      "execution_count": 14,
      "outputs": [
        {
          "output_type": "display_data",
          "data": {
            "image/png": "[encoded data removed]",
            "text/plain": [
              "<Figure size 432x288 with 1 Axes>"
            ]
          },
          "metadata": {
            "tags": [],
            "needs_background": "light"
          }
        }
      ]
    },
    {
      "cell_type": "code",
      "metadata": {
        "id": "9lip_v2lkqQt"
      },
      "source": [
        "X_train, X_valid, y_train, y_valid = train_test_split(X_train, y_train, test_size=0.2, random_state=42) "
      ],
      "execution_count": 16,
      "outputs": []
    },
    {
      "cell_type": "code",
      "metadata": {
        "id": "MWZ83h3_lOfb"
      },
      "source": [
        "X_train = X_train.astype('float32') / 255 # normalization so that the values lie between 0 and 1\n",
        "X_valid = X_valid.astype('float32') / 255"
      ],
      "execution_count": 17,
      "outputs": []
    },
    {
      "cell_type": "code",
      "metadata": {
        "id": "i1k27RbzlfgZ"
      },
      "source": [
        "X_test = X_test.astype('float32') / 255"
      ],
      "execution_count": 18,
      "outputs": []
    },
    {
      "cell_type": "code",
      "metadata": {
        "colab": {
          "base_uri": "https://localhost:8080/"
        },
        "id": "SiBQP7T4lqj9",
        "outputId": "3f1d611b-f87a-430e-9796-6edd14be7490"
      },
      "source": [
        "X_train.shape, X_valid.shape, X_test.shape"
      ],
      "execution_count": 19,
      "outputs": [
        {
          "output_type": "execute_result",
          "data": {
            "text/plain": [
              "((48000, 28, 28), (12000, 28, 28), (10000, 28, 28))"
            ]
          },
          "metadata": {
            "tags": []
          },
          "execution_count": 19
        }
      ]
    },
    {
      "cell_type": "code",
      "metadata": {
        "id": "ESeRskf2lutS"
      },
      "source": [
        "X_train = X_train.reshape(-1, 28, 28, 1) # reshaping it ti (-1,28,28,1) because it's a gray scale image and it has only one channel\n",
        "X_valid = X_valid.reshape(-1, 28, 28, 1)\n",
        "X_test = X_test.reshape(-1, 28, 28, 1)"
      ],
      "execution_count": 22,
      "outputs": []
    },
    {
      "cell_type": "code",
      "metadata": {
        "colab": {
          "base_uri": "https://localhost:8080/"
        },
        "id": "wQk2RGxhl_ED",
        "outputId": "134fc253-9236-403f-b194-a31aa5180f10"
      },
      "source": [
        "X_train.shape, X_valid.shape, X_test.shape"
      ],
      "execution_count": 23,
      "outputs": [
        {
          "output_type": "execute_result",
          "data": {
            "text/plain": [
              "((48000, 28, 28, 1), (12000, 28, 28, 1), (10000, 28, 28, 1))"
            ]
          },
          "metadata": {
            "tags": []
          },
          "execution_count": 23
        }
      ]
    },
    {
      "cell_type": "code",
      "metadata": {
        "id": "BVxAq1nUmCMX"
      },
      "source": [
        "y_train = np_utils.to_categorical(y_train, num_classes=10) # converting the outpt to categorical form. ie: 5 = [0,0,0,0,0,1,0,0,0,0], 3 = [0,0,0,1,0,0,0,0,0,0]\n",
        "y_valid = np_utils.to_categorical(y_valid, num_classes=10)\n",
        "y_test = np_utils.to_categorical(y_test, num_classes=10)"
      ],
      "execution_count": 29,
      "outputs": []
    },
    {
      "cell_type": "code",
      "metadata": {
        "colab": {
          "base_uri": "https://localhost:8080/"
        },
        "id": "QaP05umuntML",
        "outputId": "07d1fee0-19ca-4a8d-94f3-5ce0ddd03c7a"
      },
      "source": [
        "y_train.shape, y_valid.shape, y_test.shape"
      ],
      "execution_count": 30,
      "outputs": [
        {
          "output_type": "execute_result",
          "data": {
            "text/plain": [
              "((48000, 10), (12000, 10), (10000, 10))"
            ]
          },
          "metadata": {
            "tags": []
          },
          "execution_count": 30
        }
      ]
    },
    {
      "cell_type": "code",
      "metadata": {
        "id": "1GdG2f3locNf"
      },
      "source": [
        "from keras.models import Sequential, load_model\n",
        "from keras.layers import Conv2D, MaxPool2D, Flatten, Dense, Dropout"
      ],
      "execution_count": 42,
      "outputs": []
    },
    {
      "cell_type": "code",
      "metadata": {
        "id": "QfyzigKKpaiL"
      },
      "source": [
        "model = Sequential([                                                                                                              # initializing model as a sequential model\n",
        "                    Conv2D(filters=64, kernel_size=7, input_shape=[28, 28, 1], activation='relu', padding='same'),  # conv2D layer to pick the necessary features\n",
        "                    MaxPool2D(pool_size=2), # MaxPool2D to down sample so that it prevents over fitting\n",
        "                    Conv2D(filters = 128, kernel_size=3, activation='relu', padding='same'), # padding to make sure the dimensionality remains the same\n",
        "                    Conv2D(filters = 128, kernel_size=3, activation='relu', padding='same'), # relu for activation\n",
        "                    MaxPool2D(pool_size=2),\n",
        "                    Conv2D(filters = 256, kernel_size=3, activation='relu', padding='same'),\n",
        "                    Conv2D(filters = 256, kernel_size=3, activation='relu', padding='same'),\n",
        "                    MaxPool2D(pool_size=2),\n",
        "                    Flatten(), # flatten to make it a 1D array\n",
        "                    Dense(128, activation='relu'), # dense layer for classification \n",
        "                    Dropout(0.5), # dropout layer to prevent over-fitting\n",
        "                    Dense(64, activation='relu'),\n",
        "                    Dropout(0.5),\n",
        "                    Dense(10, activation='softmax') # softmax because we have a categorical output\n",
        "])"
      ],
      "execution_count": 34,
      "outputs": []
    },
    {
      "cell_type": "code",
      "metadata": {
        "colab": {
          "base_uri": "https://localhost:8080/"
        },
        "id": "HNbBnR-hpdR2",
        "outputId": "fb2f21d3-58cb-487d-80a9-4c17f6cecc97"
      },
      "source": [
        "model.summary()"
      ],
      "execution_count": 35,
      "outputs": [
        {
          "output_type": "stream",
          "text": [
            "Model: \"sequential_1\"\n",
            "_________________________________________________________________\n",
            "Layer (type)                 Output Shape              Param #   \n",
            "=================================================================\n",
            "conv2d (Conv2D)              (None, 28, 28, 64)        3200      \n",
            "_________________________________________________________________\n",
            "max_pooling2d (MaxPooling2D) (None, 14, 14, 64)        0         \n",
            "_________________________________________________________________\n",
            "conv2d_1 (Conv2D)            (None, 14, 14, 128)       73856     \n",
            "_________________________________________________________________\n",
            "conv2d_2 (Conv2D)            (None, 14, 14, 128)       147584    \n",
            "_________________________________________________________________\n",
            "max_pooling2d_1 (MaxPooling2 (None, 7, 7, 128)         0         \n",
            "_________________________________________________________________\n",
            "conv2d_3 (Conv2D)            (None, 7, 7, 256)         295168    \n",
            "_________________________________________________________________\n",
            "conv2d_4 (Conv2D)            (None, 7, 7, 256)         590080    \n",
            "_________________________________________________________________\n",
            "max_pooling2d_2 (MaxPooling2 (None, 3, 3, 256)         0         \n",
            "_________________________________________________________________\n",
            "flatten (Flatten)            (None, 2304)              0         \n",
            "_________________________________________________________________\n",
            "dense (Dense)                (None, 128)               295040    \n",
            "_________________________________________________________________\n",
            "dropout (Dropout)            (None, 128)               0         \n",
            "_________________________________________________________________\n",
            "dense_1 (Dense)              (None, 64)                8256      \n",
            "_________________________________________________________________\n",
            "dropout_1 (Dropout)          (None, 64)                0         \n",
            "_________________________________________________________________\n",
            "dense_2 (Dense)              (None, 10)                650       \n",
            "=================================================================\n",
            "Total params: 1,413,834\n",
            "Trainable params: 1,413,834\n",
            "Non-trainable params: 0\n",
            "_________________________________________________________________\n"
          ],
          "name": "stdout"
        }
      ]
    },
    {
      "cell_type": "code",
      "metadata": {
        "id": "gsmuyTckraeu"
      },
      "source": [
        "model.compile(loss='categorical_crossentropy', optimizer='nadam', metrics=['accuracy'])"
      ],
      "execution_count": 36,
      "outputs": []
    },
    {
      "cell_type": "code",
      "metadata": {
        "id": "hSetsyLlrhSe"
      },
      "source": [
        "from keras.callbacks import ModelCheckpoint"
      ],
      "execution_count": 37,
      "outputs": []
    },
    {
      "cell_type": "code",
      "metadata": {
        "id": "wQKBYoPLsJ2u"
      },
      "source": [
        "cb = ModelCheckpoint('try_1', monitor='val_accuracy', save_best_only=True)"
      ],
      "execution_count": 39,
      "outputs": []
    },
    {
      "cell_type": "code",
      "metadata": {
        "colab": {
          "base_uri": "https://localhost:8080/"
        },
        "id": "C6VhRPANtU12",
        "outputId": "4eb3f129-8476-455d-eac1-3f50630993c4"
      },
      "source": [
        "train = history = model.fit(X_train, y_train, epochs=30, validation_data=(X_valid, y_valid), callbacks=[cb])"
      ],
      "execution_count": 40,
      "outputs": [
        {
          "output_type": "stream",
          "text": [
            "Epoch 1/30\n",
            "1500/1500 [==============================] - 88s 28ms/step - loss: 1.1256 - accuracy: 0.5848 - val_loss: 0.4192 - val_accuracy: 0.8410\n",
            "INFO:tensorflow:Assets written to: try_1/assets\n",
            "Epoch 2/30\n",
            "1500/1500 [==============================] - 44s 29ms/step - loss: 0.4589 - accuracy: 0.8435 - val_loss: 0.3275 - val_accuracy: 0.8813\n",
            "INFO:tensorflow:Assets written to: try_1/assets\n",
            "Epoch 3/30\n",
            "1500/1500 [==============================] - 39s 26ms/step - loss: 0.3722 - accuracy: 0.8691 - val_loss: 0.2982 - val_accuracy: 0.8889\n",
            "INFO:tensorflow:Assets written to: try_1/assets\n",
            "Epoch 4/30\n",
            "1500/1500 [==============================] - 36s 24ms/step - loss: 0.3303 - accuracy: 0.8852 - val_loss: 0.2845 - val_accuracy: 0.8966\n",
            "INFO:tensorflow:Assets written to: try_1/assets\n",
            "Epoch 5/30\n",
            "1500/1500 [==============================] - 47s 31ms/step - loss: 0.3012 - accuracy: 0.8938 - val_loss: 0.2720 - val_accuracy: 0.8992\n",
            "INFO:tensorflow:Assets written to: try_1/assets\n",
            "Epoch 6/30\n",
            "1500/1500 [==============================] - 36s 24ms/step - loss: 0.2807 - accuracy: 0.9026 - val_loss: 0.2693 - val_accuracy: 0.9025\n",
            "INFO:tensorflow:Assets written to: try_1/assets\n",
            "Epoch 7/30\n",
            "1500/1500 [==============================] - 42s 28ms/step - loss: 0.2613 - accuracy: 0.9086 - val_loss: 0.2580 - val_accuracy: 0.9101\n",
            "INFO:tensorflow:Assets written to: try_1/assets\n",
            "Epoch 8/30\n",
            "1500/1500 [==============================] - 36s 24ms/step - loss: 0.2455 - accuracy: 0.9155 - val_loss: 0.2912 - val_accuracy: 0.8988\n",
            "Epoch 9/30\n",
            "1500/1500 [==============================] - 36s 24ms/step - loss: 0.2288 - accuracy: 0.9195 - val_loss: 0.2568 - val_accuracy: 0.9087\n",
            "Epoch 10/30\n",
            "1500/1500 [==============================] - 36s 24ms/step - loss: 0.2199 - accuracy: 0.9238 - val_loss: 0.2610 - val_accuracy: 0.9049\n",
            "Epoch 11/30\n",
            "1500/1500 [==============================] - 36s 24ms/step - loss: 0.2072 - accuracy: 0.9259 - val_loss: 0.2704 - val_accuracy: 0.9053\n",
            "Epoch 12/30\n",
            "1500/1500 [==============================] - 36s 24ms/step - loss: 0.2026 - accuracy: 0.9305 - val_loss: 0.2578 - val_accuracy: 0.9150\n",
            "INFO:tensorflow:Assets written to: try_1/assets\n",
            "Epoch 13/30\n",
            "1500/1500 [==============================] - 36s 24ms/step - loss: 0.1858 - accuracy: 0.9351 - val_loss: 0.2964 - val_accuracy: 0.9089\n",
            "Epoch 14/30\n",
            "1500/1500 [==============================] - 36s 24ms/step - loss: 0.1846 - accuracy: 0.9355 - val_loss: 0.2543 - val_accuracy: 0.9178\n",
            "INFO:tensorflow:Assets written to: try_1/assets\n",
            "Epoch 15/30\n",
            "1500/1500 [==============================] - 49s 32ms/step - loss: 0.1714 - accuracy: 0.9400 - val_loss: 0.3089 - val_accuracy: 0.9112\n",
            "Epoch 16/30\n",
            "1500/1500 [==============================] - 37s 24ms/step - loss: 0.1773 - accuracy: 0.9385 - val_loss: 0.2761 - val_accuracy: 0.9141\n",
            "Epoch 17/30\n",
            "1500/1500 [==============================] - 36s 24ms/step - loss: 0.1651 - accuracy: 0.9419 - val_loss: 0.2901 - val_accuracy: 0.9142\n",
            "Epoch 18/30\n",
            "1500/1500 [==============================] - 37s 24ms/step - loss: 0.1531 - accuracy: 0.9471 - val_loss: 0.3076 - val_accuracy: 0.9123\n",
            "Epoch 19/30\n",
            "1500/1500 [==============================] - 36s 24ms/step - loss: 0.1440 - accuracy: 0.9499 - val_loss: 0.3062 - val_accuracy: 0.9132\n",
            "Epoch 20/30\n",
            "1500/1500 [==============================] - 37s 24ms/step - loss: 0.1386 - accuracy: 0.9510 - val_loss: 0.3313 - val_accuracy: 0.9143\n",
            "Epoch 21/30\n",
            "1500/1500 [==============================] - 36s 24ms/step - loss: 0.1483 - accuracy: 0.9482 - val_loss: 0.3229 - val_accuracy: 0.9158\n",
            "Epoch 22/30\n",
            "1500/1500 [==============================] - 36s 24ms/step - loss: 0.1397 - accuracy: 0.9522 - val_loss: 0.3210 - val_accuracy: 0.9163\n",
            "Epoch 23/30\n",
            "1500/1500 [==============================] - 36s 24ms/step - loss: 0.1349 - accuracy: 0.9549 - val_loss: 0.3681 - val_accuracy: 0.9130\n",
            "Epoch 24/30\n",
            "1500/1500 [==============================] - 36s 24ms/step - loss: 0.1382 - accuracy: 0.9542 - val_loss: 0.3425 - val_accuracy: 0.9083\n",
            "Epoch 25/30\n",
            "1500/1500 [==============================] - 36s 24ms/step - loss: 0.1386 - accuracy: 0.9526 - val_loss: 0.3554 - val_accuracy: 0.9126\n",
            "Epoch 26/30\n",
            "1500/1500 [==============================] - 36s 24ms/step - loss: 0.1308 - accuracy: 0.9578 - val_loss: 0.3721 - val_accuracy: 0.9124\n",
            "Epoch 27/30\n",
            "1500/1500 [==============================] - 37s 24ms/step - loss: 0.1201 - accuracy: 0.9597 - val_loss: 0.3517 - val_accuracy: 0.9083\n",
            "Epoch 28/30\n",
            "1500/1500 [==============================] - 37s 24ms/step - loss: 0.1151 - accuracy: 0.9618 - val_loss: 0.3811 - val_accuracy: 0.9090\n",
            "Epoch 29/30\n",
            "1500/1500 [==============================] - 36s 24ms/step - loss: 0.1178 - accuracy: 0.9616 - val_loss: 0.4177 - val_accuracy: 0.9087\n",
            "Epoch 30/30\n",
            "1500/1500 [==============================] - 36s 24ms/step - loss: 0.1211 - accuracy: 0.9589 - val_loss: 0.4019 - val_accuracy: 0.9144\n"
          ],
          "name": "stdout"
        }
      ]
    },
    {
      "cell_type": "code",
      "metadata": {
        "colab": {
          "base_uri": "https://localhost:8080/"
        },
        "id": "kzkuq9YZuCHO",
        "outputId": "bdb5d0be-9dbd-41b6-985c-3891fe11d7f0"
      },
      "source": [
        "model = load_model('try_1')\n",
        "model.evaluate(X_test, y_test)"
      ],
      "execution_count": 45,
      "outputs": [
        {
          "output_type": "stream",
          "text": [
            "313/313 [==============================] - 3s 8ms/step - loss: 0.2956 - accuracy: 0.9108\n"
          ],
          "name": "stdout"
        },
        {
          "output_type": "execute_result",
          "data": {
            "text/plain": [
              "[0.29555004835128784, 0.9107999801635742]"
            ]
          },
          "metadata": {
            "tags": []
          },
          "execution_count": 45
        }
      ]
    },
    {
      "cell_type": "code",
      "metadata": {
        "id": "zs5MtwjjzeBG"
      },
      "source": [
        ""
      ],
      "execution_count": null,
      "outputs": []
    }
  ]
}